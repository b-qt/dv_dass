{
 "cells": [
  {
   "cell_type": "code",
   "execution_count": null,
   "metadata": {},
   "outputs": [],
   "source": [
    "import pandas as pd\n",
    "import numpy as np\n",
    "\n",
    "import seaborn as sns\n",
    "import matplotlib\n",
    "import matplotlib.pyplot as plt\n",
    "import joypy\n",
    "import altair as alt\n",
    "\n",
    "from sklearn import linear_model\n",
    "from sklearn.preprocessing import LabelEncoder\n",
    "\n",
    "import random\n",
    "\n",
    "import pytz\n",
    "\n",
    "import warnings\n",
    "warnings.filterwarnings(\"ignore\")"
   ]
  },
  {
   "cell_type": "markdown",
   "metadata": {},
   "source": [
    "# DASS Analysis"
   ]
  },
  {
   "cell_type": "markdown",
   "metadata": {},
   "source": [
    "### Read in the data"
   ]
  },
  {
   "cell_type": "code",
   "execution_count": null,
   "metadata": {},
   "outputs": [],
   "source": [
    "data = pd.read_csv('../data/DASS_data_21.02.19/data.csv', delimiter='\\t')\n",
    "\n",
    "\n",
    "display(data)"
   ]
  },
  {
   "cell_type": "markdown",
   "metadata": {},
   "source": [
    "## Overview of the data"
   ]
  },
  {
   "cell_type": "markdown",
   "metadata": {},
   "source": [
    "## Separate the Data into the 3 different diseases"
   ]
  },
  {
   "cell_type": "markdown",
   "metadata": {},
   "source": [
    "For the first part we need the columns begining with Q"
   ]
  },
  {
   "cell_type": "code",
   "execution_count": null,
   "metadata": {},
   "outputs": [],
   "source": [
    "Q_cols = [col for col in list(data) if col[0]=='Q']\n",
    "\n",
    "data_self = data[Q_cols]\n",
    "\n",
    "display(data_self)"
   ]
  },
  {
   "cell_type": "markdown",
   "metadata": {},
   "source": [
    "_ The type of Question is recorded in http://www2.psy.unsw.edu.au/dass//Download%20files/Dass_template.pdf _ so I had to represent this for safekeeping "
   ]
  },
  {
   "cell_type": "code",
   "execution_count": null,
   "metadata": {},
   "outputs": [],
   "source": [
    "Q_Type = ['S', 'A', 'D', 'A', 'D', 'S', 'A', 'S', 'A', 'D', 'S', 'S', 'D', 'S', 'A', 'D', 'D', 'S', 'A', 'A', 'D', 'S', 'A', 'D', 'A', 'D', 'S', 'A', 'S', 'A', 'D', 'S', 'S', 'D', 'S', 'A', 'D', 'D', 'S', 'A', 'A', 'D']\n",
    "\n",
    "Q = ['Q'+str(i) for i in range(1, 43)]\n",
    "\n",
    "Q_Type_df = pd.DataFrame(data= [Q_Type], columns=Q)\n",
    "\n",
    "display(Q_Type_df)"
   ]
  },
  {
   "cell_type": "markdown",
   "metadata": {},
   "source": [
    "### Depression "
   ]
  },
  {
   "cell_type": "code",
   "execution_count": null,
   "metadata": {},
   "outputs": [],
   "source": [
    "depression = [col for col in Q_Type_df if Q_Type_df[col].all()=='D' ]\n",
    "\n",
    "data_depression = list(i for i in data_self for j in depression if i.startswith(j.strip()))\n",
    "\n",
    "data_depression_answers = pd.DataFrame()\n",
    "for col in data_depression:\n",
    "    col = col.strip()\n",
    "    if col.endswith('A'):\n",
    "        data_depression_answers[col] = data[col]\n",
    "\n",
    "data_depression_answers['scores'] = data_depression_answers.sum(axis = 1)\n",
    "\n",
    "display(data_depression_answers['scores'].describe())\n",
    "\n",
    "#data_depression_answers"
   ]
  },
  {
   "cell_type": "code",
   "execution_count": null,
   "metadata": {},
   "outputs": [],
   "source": [
    "data_depression_answers.to_csv('../data/depression.csv')"
   ]
  },
  {
   "cell_type": "markdown",
   "metadata": {},
   "source": [
    "Let's rank the depression scores as:   \n",
    "'Normal' => 0-9,   \n",
    "'Mild' => 10- 13,   \n",
    "'Moderate' => 14 - 20,   \n",
    "'Severe' => 21 - 27,   \n",
    "'Extremely Severe' => 28++"
   ]
  },
  {
   "cell_type": "code",
   "execution_count": null,
   "metadata": {},
   "outputs": [],
   "source": [
    "## Percentages for Depression\n",
    "print(\n",
    "    (len(data_depression_answers[data_depression_answers['scores'] < 10])*100)/len(data_depression_answers),\n",
    "    (len(data_depression_answers[data_depression_answers['scores'] < 14])*100)/len(data_depression_answers),\n",
    "    (len(data_depression_answers[data_depression_answers['scores'].between(14,20)])*100)/len(data_depression_answers), \n",
    "    (len(data_depression_answers[data_depression_answers['scores'].between(21,27)])*100)/len(data_depression_answers), \n",
    "    (len(data_depression_answers[data_depression_answers['scores'] > 27])*100)/len(data_depression_answers)\n",
    "    , sep= '\\n')"
   ]
  },
  {
   "cell_type": "markdown",
   "metadata": {},
   "source": [
    "'Normal' => 0,  \n",
    "'Mild' => 0,  \n",
    "'Moderate' => 373,   \n",
    "'Severe' => 3697,   \n",
    "'Extremely Severe' => 35705"
   ]
  },
  {
   "cell_type": "markdown",
   "metadata": {},
   "source": [
    "### Anxiety"
   ]
  },
  {
   "cell_type": "code",
   "execution_count": null,
   "metadata": {},
   "outputs": [],
   "source": [
    "anxiety = [col for col in Q_Type_df if Q_Type_df[col].all()=='A' ]\n",
    "\n",
    "data_anxiety = list(i for i in data_self for j in anxiety if i.startswith(j.strip()))\n",
    "\n",
    "data_anxiety_answers = pd.DataFrame()\n",
    "for col in data_anxiety:\n",
    "    col = col.strip()\n",
    "    if col.endswith('A'):\n",
    "        data_anxiety_answers[col] = data[col]\n",
    "\n",
    "data_anxiety_answers['scores'] = data_anxiety_answers.sum(axis = 1)\n",
    "\n",
    "display(data_anxiety_answers['scores'].describe())\n",
    "#display(data_anxiety_answers)\n",
    "data_anxiety_answers.to_csv('../data/anxiety.csv')"
   ]
  },
  {
   "cell_type": "code",
   "execution_count": null,
   "metadata": {},
   "outputs": [],
   "source": [
    "## Percentages for Depression\n",
    "print(\n",
    "    (len(data_anxiety_answers[data_anxiety_answers['scores'] < 7])*100)/len(data_anxiety_answers),\n",
    "    (len(data_anxiety_answers[data_anxiety_answers['scores'] < 9])*100)/len(data_anxiety_answers),\n",
    "    (len(data_anxiety_answers[data_anxiety_answers['scores'].between(10,14)])*100)/len(data_anxiety_answers), \n",
    "    (len(data_anxiety_answers[data_anxiety_answers['scores'].between(15,19)])*100)/len(data_anxiety_answers), \n",
    "    (len(data_anxiety_answers[data_anxiety_answers['scores'] > 20])*100)/len(data_anxiety_answers)\n",
    "    , sep= '\\n')"
   ]
  },
  {
   "cell_type": "markdown",
   "metadata": {},
   "source": [
    "Let's rank the anxiety scores according to the [DASS Webpage](http://www2.psy.unsw.edu.au/groups/dass/):   \n",
    "'Normal' => 0-7,   \n",
    "'Mild' => 8- 9,   \n",
    "'Moderate' => 10 - 14,   \n",
    "'Severe' => 15 - 19,   \n",
    "'Extremely Severe' => 20++  \n",
    "\n",
    "We can already see from the description of the scores that the minimum score is 21 so the whole population according to the DASS website is _Extremely Severely Anxious_."
   ]
  },
  {
   "cell_type": "markdown",
   "metadata": {},
   "source": [
    "### Stress"
   ]
  },
  {
   "cell_type": "code",
   "execution_count": null,
   "metadata": {},
   "outputs": [],
   "source": [
    "stress = [col for col in Q_Type_df if Q_Type_df[col].all()=='S' ]\n",
    "\n",
    "data_stress = list(i for i in data_self for j in stress if i.startswith(j.strip()))\n",
    "\n",
    "data_stress_answers = pd.DataFrame()\n",
    "for col in data_stress:\n",
    "    col = col.strip()\n",
    "    if col.endswith('A'):\n",
    "        data_stress_answers[col] = data[col]\n",
    "\n",
    "data_stress_answers['scores'] = data_stress_answers.sum(axis = 1)\n",
    "\n",
    "display(data_stress_answers['scores'].describe())\n",
    "#display(data_stress_answers)\n",
    "data_stress_answers.to_csv('../data/stress.csv')"
   ]
  },
  {
   "cell_type": "markdown",
   "metadata": {},
   "source": [
    "Let's rank the stress scores according to the DASS Webpage:  \n",
    "'Normal' => 0-14,  \n",
    "'Mild' => 15-18,  \n",
    "'Moderate' => 19 - 25,  \n",
    "'Severe' => 26 - 33,   \n",
    "'Extremely Severe' => 34++\n"
   ]
  },
  {
   "cell_type": "code",
   "execution_count": null,
   "metadata": {},
   "outputs": [],
   "source": [
    "## Percentages for Stress\n",
    "print(\n",
    "    (len(data_stress_answers[data_stress_answers['scores'] < 10])*100)/len(data_stress_answers),\n",
    "    (len(data_stress_answers[data_stress_answers['scores'] < 14])*100)/len(data_stress_answers),\n",
    "    (len(data_stress_answers[data_stress_answers['scores'].between(14,20)])*100)/len(data_stress_answers), \n",
    "    (len(data_stress_answers[data_stress_answers['scores'].between(21,27)])*100)/len(data_stress_answers), \n",
    "    (len(data_stress_answers[data_stress_answers['scores'] > 27])*100)/len(data_stress_answers)\n",
    "    , sep= '\\n')"
   ]
  },
  {
   "cell_type": "code",
   "execution_count": null,
   "metadata": {},
   "outputs": [],
   "source": [
    "print(\n",
    "    (len(data_stress_answers[data_stress_answers['scores'] < 10])),\n",
    "    (len(data_stress_answers[data_stress_answers['scores'] < 14])),\n",
    "    (len(data_stress_answers[data_stress_answers['scores'].between(14,20)])), \n",
    "    (len(data_stress_answers[data_stress_answers['scores'].between(21,27)])), \n",
    "    (len(data_stress_answers[data_stress_answers['scores'] > 27]))\n",
    "    , sep= '\\n')"
   ]
  },
  {
   "cell_type": "markdown",
   "metadata": {},
   "source": [
    "## Look for Relationships"
   ]
  },
  {
   "cell_type": "code",
   "execution_count": null,
   "metadata": {},
   "outputs": [],
   "source": [
    "print(data.columns)"
   ]
  },
  {
   "cell_type": "markdown",
   "metadata": {},
   "source": [
    "Included with the answers to these questions are demographics such as _hand, religion, orientation, race, voted, married, familysize and major_  \n",
    "\n",
    "__How do these demographics influence the scores?__  \n",
    "\n",
    "I'll start by making a dataframe which contains these demographics together with the scores for depression, anxiety and stress"
   ]
  },
  {
   "cell_type": "code",
   "execution_count": null,
   "metadata": {},
   "outputs": [],
   "source": [
    "data_scores = pd.DataFrame(list(zip(\n",
    "                                    data_depression_answers['scores'], \n",
    "                                    data_anxiety_answers['scores'], \n",
    "                                    data_stress_answers['scores'],\n",
    "                                    data.hand, \n",
    "                                    data.religion,\n",
    "                                    data.orientation, \n",
    "                                    data.race, \n",
    "                                    data.voted, \n",
    "                                    data.married, \n",
    "                                    data.familysize, \n",
    "                                    data.major,\n",
    "                                    data.education, \n",
    "                                    data.country, \n",
    "                                    data.urban, \n",
    "                                    data.age\n",
    "                                  )),\n",
    "                            columns=['Depression', 'Anxiety', 'Stress','hand', 'religion','orientation', 'race', 'voted', 'married', 'familysize', 'major', 'education', 'country', 'urban', 'age'])\n",
    "\n",
    "data_scores.info()"
   ]
  },
  {
   "cell_type": "code",
   "execution_count": null,
   "metadata": {},
   "outputs": [],
   "source": [
    "pd.set_option('display.max_row', 1000)\n",
    "\n",
    "# Make all items uppercase then get unique values\n",
    "majors = list(data_scores['major'].str.upper().unique())"
   ]
  },
  {
   "cell_type": "code",
   "execution_count": null,
   "metadata": {},
   "outputs": [],
   "source": [
    "display(data_scores.head(10))"
   ]
  },
  {
   "cell_type": "markdown",
   "metadata": {},
   "source": [
    "'major' still has string values so let's transform it."
   ]
  },
  {
   "cell_type": "code",
   "execution_count": null,
   "metadata": {},
   "outputs": [],
   "source": [
    "l_enc=LabelEncoder()\n",
    "\n",
    "data_scores_no_null=data_scores.dropna().reset_index(drop=True)\n",
    "data_scores_no_null=data_scores_no_null[(data_scores_no_null.country!='NONE')&(data_scores_no_null.country!='XK')]\n",
    "\n",
    "data_scores_no_null.major=data_scores_no_null.major.str.upper()\n",
    "display(data_scores_no_null.head())\n",
    "\n",
    "data_scores_no_null['major_coded']=l_enc.fit_transform(data_scores_no_null['major'])\n",
    "\n",
    "#data_scores_no_null"
   ]
  },
  {
   "cell_type": "code",
   "execution_count": null,
   "metadata": {
    "tags": []
   },
   "outputs": [],
   "source": [
    "a_reg=linear_model.LinearRegression()\n",
    "b_reg=linear_model.LinearRegression()\n",
    "c_reg=linear_model.LinearRegression()\n",
    "d_reg=linear_model.LinearRegression()\n",
    "e_reg=linear_model.LinearRegression()\n",
    "f_reg=linear_model.LinearRegression()\n",
    "g_reg=linear_model.LinearRegression()\n",
    "h_reg=linear_model.LinearRegression()\n",
    "\n",
    "# How does hand influence depression?\n",
    "X,y1,y2,y3,y4,y5,y6,y7,y8,y9,y10,y11,y12 = data_scores_no_null[['Depression','Anxiety','Stress']],data_scores_no_null[['hand']],data_scores_no_null[['religion']],data_scores_no_null[['orientation']],data_scores_no_null[['race']],data_scores_no_null[['voted']],data_scores_no_null[['married']],data_scores_no_null[['familysize']],data_scores_no_null[['major_coded']],data_scores_no_null[['education']],data_scores_no_null[['country']],data_scores_no_null[['urban']],data_scores_no_null[['age']]\n",
    "\n",
    "a_reg.fit(X.values,y1.values)\n",
    "print(*a_reg.coef_,'hand')\n",
    "\n",
    "b_reg.fit(X.values,y2.values)\n",
    "print(*b_reg.coef_,'religion')\n",
    "\n",
    "c_reg.fit(X.values,y3.values)\n",
    "print(*c_reg.coef_,'orientation')\n",
    "\n",
    "d_reg.fit(X.values,y4.values)\n",
    "print(*d_reg.coef_,'race')\n",
    "\n",
    "e_reg.fit(X.values,y5.values)\n",
    "print(*e_reg.coef_,'voted')\n",
    "\n",
    "f_reg.fit(X.values,y6.values)\n",
    "print(*f_reg.coef_,'married')\n",
    "\n",
    "g_reg.fit(X.values,y7.values)\n",
    "print(*g_reg.coef_,'familysize')\n",
    "\n",
    "h_reg.fit(X.values,y8.values)\n",
    "print(*h_reg.coef_,'major_coded')\n",
    "\n",
    "e_reg.fit(X.values,y9.values)\n",
    "print(*e_reg.coef_,'education')\n",
    "\n",
    "g_reg.fit(X.values,y11.values)\n",
    "print(*g_reg.coef_,'urban')\n",
    "\n",
    "h_reg.fit(X.values,y12.values)\n",
    "print(*h_reg.coef_,'age')"
   ]
  },
  {
   "cell_type": "markdown",
   "metadata": {},
   "source": [
    "The result array represents the coefficient values of Depression, Anxiety and Stress.   \n",
    "\n",
    "In the case of 'hand':   \n",
    "Depression: -4.95419093e-04     \n",
    "Anxiety: 1.06536105e-03    \n",
    "Stress: -1.56561544e-05  \n",
    "\n",
    "In the case of 'urban':   \n",
    "Depression: 9.06183139e-04       \n",
    "Anxiety: 1.77405256e-04     \n",
    "Stress: -1.59427085e-05  \n",
    "The values are too small to be an influence significant enough of the hand used or what neighborhood they grew in.  \n",
    "However, if we think of it, where one grew up plays a big enough role of if they get one of these diseases.  \n",
    "\n",
    "In the case of 'religion':   \n",
    "Depression: -0.05492764     \n",
    "Anxiety: 0.06825119   \n",
    "Stress: -0.00303897    \n",
    "The values are big enough to be significant.  \n",
    "\n",
    "For 'orientation':   \n",
    "Depression: -0.00129916        \n",
    "Anxiety: 0.01209818    \n",
    "Stress: -0.00434024   \n",
    "Also significant enough to be considered.  \n",
    "\n",
    "'race':   \n",
    "Depression: 0.20711314        \n",
    "Anxiety: -0.43028709         \n",
    "Stress: 0.15951941   \n",
    "\n",
    "'voted':   \n",
    "Depression: -0.00238202            \n",
    "Anxiety: 0.00788635         \n",
    "Stress: -0.00188073   \n",
    "\n",
    "'married':   \n",
    "Depression: -0.00119288            \n",
    "Anxiety: -0.00875352            \n",
    "Stress: 0.0058205   \n",
    "\n",
    "'familysize':   \n",
    "Depression: -0.01307079                \n",
    "Anxiety: 0.02121744            \n",
    "Stress: -0.00851036   \n",
    "\n",
    "'major':   \n",
    "Depression: -0.64239818               \n",
    "Anxiety: -1.9763147              \n",
    "Stress: 1.48369737   \n",
    "Which are all significant enough to be considered.\n"
   ]
  },
  {
   "source": [
    "sns_plot = sns.pairplot(\n",
    "                          data_scores_no_null, \n",
    "                          corner=True, \n",
    "                          diag_kws=dict(fill=False), \n",
    "                          plot_kws=dict(marker=\"+\", linewidth=1),\n",
    "                       )\n",
    "sns_plot.savefig(\"output.png\")"
   ],
   "cell_type": "code",
   "metadata": {},
   "execution_count": null,
   "outputs": []
  },
  {
   "cell_type": "markdown",
   "metadata": {},
   "source": [
    "### Visualize ,Visualize, Visualize"
   ]
  },
  {
   "cell_type": "code",
   "execution_count": null,
   "metadata": {},
   "outputs": [],
   "source": [
    "data_scores_no_null.country = [pytz.country_names[code] for code in data_scores_no_null.country]\n"
   ]
  },
  {
   "source": [
    "\"\"\" fig1,axes1 = joypy.joyplot(data_scores_no_null,\n",
    "                           alpha=1,\n",
    "                           background=None,\n",
    "                           bins=2,\n",
    "                           by=\"country\",\n",
    "                           color=['#a6cee3','#1f78b4','#b2df8a','#33a02c','#fb9a99','#e31a1c','#fdbf6f','#ff7f00','#cab2d6','#6a3d9a'],\n",
    "                           column=['hand','religion','orientation','race','voted','married','familysize','education','urban','age'],\n",
    "                           fade=True,\n",
    "                           figsize=(19,28),\n",
    "                           fill=True,\n",
    "                           kind=\"normalized_counts\",\n",
    "                           legend=True,\n",
    "                           linecolor='w',\n",
    "                           linewidth=.25,\n",
    "                           overlap=4,\n",
    "                           range_style='own',\n",
    "                           xlabels=False,\n",
    "                           xlabelsize=10,\n",
    "                           x_range=(-10,90),\n",
    "                           xrot=60,\n",
    "                           ylabels=True,\n",
    "                           ylabelsize=10,\n",
    "                           ylim='max',\n",
    "                           yrot=None) \"\"\""
   ],
   "cell_type": "code",
   "metadata": {},
   "execution_count": null,
   "outputs": []
  },
  {
   "cell_type": "code",
   "execution_count": null,
   "metadata": {},
   "outputs": [],
   "source": [
    "a_plot = pd.read_csv('../data/Categorical.csv')\n",
    "\n",
    "a_plot.country = [pytz.country_names[code] for code in a_plot.country]\n",
    "display(a_plot.head(3))\n",
    "\n"
   ]
  },
  {
   "cell_type": "code",
   "execution_count": null,
   "metadata": {},
   "outputs": [],
   "source": [
    "(len(a_plot[a_plot.country == 'Malaysia'])/len(a_plot))*100"
   ]
  },
  {
   "cell_type": "code",
   "execution_count": null,
   "metadata": {},
   "outputs": [],
   "source": [
    "df_13=pd.DataFrame(columns=['Series','Value','Country'])\n",
    "df_13=df_13.fillna(0)\n",
    "df_13['Value']=data_scores_no_null.age\n",
    "df_13['Country']=data_scores_no_null.country\n",
    "df_13['Series']='age'\n",
    "\n",
    "\n",
    "df_12=pd.DataFrame(columns=['Series','Value','Country'])\n",
    "df_12=df_12.fillna(0)\n",
    "df_12['Value']=data_scores_no_null.urban\n",
    "df_12['Country']=data_scores_no_null.country\n",
    "df_12['Series']='urban'\n",
    "\n",
    "df_11=pd.DataFrame(columns=['Series','Value','Country'])\n",
    "df_11=df_11.fillna(0)\n",
    "df_11['Value']=data_scores_no_null.education\n",
    "df_11['Country']=data_scores_no_null.country\n",
    "df_11['Series']='education'\n",
    "\n",
    "df_10=pd.DataFrame(columns=['Series','Value','Country'])\n",
    "df_10=df_10.fillna(0)\n",
    "df_10['Value']=data_scores_no_null.familysize\n",
    "df_10['Country']=data_scores_no_null.country\n",
    "df_10['Series']='familysize'\n",
    "\n",
    "df_9=pd.DataFrame(columns=['Series','Value','Country'])\n",
    "df_9=df_9.fillna(0)\n",
    "df_9['Value']=data_scores_no_null.married\n",
    "df_9['Country']=data_scores_no_null.country\n",
    "df_9['Series']='married'\n",
    "\n",
    "df_8=pd.DataFrame(columns=['Series','Value','Country'])\n",
    "df_8=df_8.fillna(0)\n",
    "df_8['Value']=data_scores_no_null.voted\n",
    "df_8['Country']=data_scores_no_null.country\n",
    "df_8['Series']='voted'\n",
    "\n",
    "df_7=pd.DataFrame(columns=['Series','Value','Country'])\n",
    "df_7=df_7.fillna(0)\n",
    "df_7['Value']=data_scores_no_null.race\n",
    "df_7['Country']=data_scores_no_null.country\n",
    "df_7['Series']='race'\n",
    "\n",
    "df_6=pd.DataFrame(columns=['Series','Value','Country'])\n",
    "df_6=df_6.fillna(0)\n",
    "df_6['Value']=data_scores_no_null.orientation\n",
    "df_6['Country']=data_scores_no_null.country\n",
    "df_6['Series']='orientation'\n",
    "\n",
    "df_5=pd.DataFrame(columns=['Series','Value','Country'])\n",
    "df_5=df_5.fillna(0)\n",
    "df_5['Value']=data_scores_no_null.religion\n",
    "df_5['Country']=data_scores_no_null.country\n",
    "df_5['Series']='religion'\n",
    "\n",
    "df_1=pd.DataFrame(columns=['Series','Value','Country'])\n",
    "df_1=df_1.fillna(0)\n",
    "df_1['Value']=data_scores_no_null.Depression\n",
    "df_1['Country']=data_scores_no_null.country\n",
    "df_1['Series']='Depression'\n",
    "\n",
    "df_2=pd.DataFrame(columns=['Series','Value','Country'])\n",
    "df_2=df_2.fillna(0)\n",
    "df_2['Value']=data_scores_no_null.Anxiety\n",
    "df_2['Country']=data_scores_no_null.country\n",
    "df_2['Series']='Anxiety'\n",
    "\n",
    "df_3=pd.DataFrame(columns=['Series','Value','Country'])\n",
    "df_3=df_3.fillna(0)\n",
    "df_3['Value']=data_scores_no_null.Stress\n",
    "df_3['Country']=data_scores_no_null.country\n",
    "df_3['Series']='Stress'\n",
    "\n",
    "df_4=pd.DataFrame(columns=['Series','Value','Country'])\n",
    "df_4=df_4.fillna(0)\n",
    "df_4['Value']=data_scores_no_null.hand\n",
    "df_4['Country']=data_scores_no_null.country\n",
    "df_4['Series']='hand'\n",
    "\n",
    "res=pd.concat([df_1,df_2,df_3,df_4,df_5,df_6,df_7,df_8,df_9,df_10,df_11,df_12,df_13])\n",
    "res.head(10)\n",
    "\n",
    "#display(res[res.Country=='Japan'])\n"
   ]
  },
  {
   "cell_type": "code",
   "execution_count": null,
   "metadata": {},
   "outputs": [],
   "source": [
    "a_plot.head(3)"
   ]
  },
  {
   "cell_type": "code",
   "execution_count": null,
   "metadata": {},
   "outputs": [],
   "source": [
    "alt.data_transformers.disable_max_rows()\n",
    "\n",
    "tooltip = alt.Tooltip(['disease:N', 'score:Q','country:N'])\n",
    "click = alt.selection_multi(fields=['disease'])\n",
    "\n",
    "series= pd.DataFrame(data=a_plot.disease.unique(),columns=['disease'])\n",
    "\n",
    "color_s= alt.Color('disease:N')\n",
    "color1 = alt.condition(click, \n",
    "                       color_s, \n",
    "                       alt.value('gray'))\n",
    "\n",
    "rect = alt.Chart(series).mark_rect().encode(alt.Y('disease:N', axis=alt.Axis(tickSize=0.05)),\n",
    "                                            #alt.X(title='Diseases'),\n",
    "                                            color=color1\n",
    "                                            ).add_selection(\n",
    "                                              click\n",
    "                                            ).interactive()\n",
    "\n",
    "chart =alt.Chart(a_plot).mark_point(filled=True,\n",
    "                                    fillOpacity=0.8).encode(alt.X('score:Q', axis=alt.Axis(grid=True) ,title='Disease Density',scale=alt.Scale(domain=[15, 85])),\n",
    "                                                            alt.Y('country:N',axis=alt.Axis(tickSize=0.25, grid=False),title=None),\n",
    "                                                            alt.Shape('disease:N'),\n",
    "                                                            alt.Size('count(score):Q', scale=alt.Scale(range=[50,500])),\n",
    "                                                            color=alt.condition(click, color_s, alt.value('grey')), #color_s,\n",
    "                                                            tooltip=tooltip).transform_filter(click).add_selection(click).properties(width = alt.Step(10),\n",
    "                                                                                                                                     height = alt.Step(15)).interactive()\n",
    "\n",
    "c = rect | chart\n",
    "\n",
    "c"
   ]
  },
  {
   "cell_type": "code",
   "execution_count": null,
   "metadata": {},
   "outputs": [],
   "source": [
    "# Some people put in some pretty random values. I can't explain any value greater than 200 so I decided to drop them\n",
    "\n",
    "res = res[res.Value < 200]"
   ]
  },
  {
   "cell_type": "code",
   "execution_count": null,
   "metadata": {},
   "outputs": [],
   "source": [
    "scale = alt.Scale(scheme='category20b')\n",
    "tooltip1 = alt.Tooltip(['Country:N','Series:N','Value:Q','count(Value):Q'])\n",
    "\n",
    "\"\"\" Interactive Selectors \"\"\"\n",
    "brush = alt.selection_interval(encodings=['x']) # ----- Pick up everything on the y-scale\n",
    "click = alt.selection_multi(fields=['Series']) # ----- Rectangular boxes [Country / Series]\n",
    "series= pd.DataFrame(data=res.Series.unique(),columns=['Series'])\n",
    "\n",
    "\"\"\" Colors \"\"\"\n",
    "color = alt.Column('Series:N')\n",
    "    ##########\n",
    "color_s = alt.Color('Series:N',\n",
    "                    scale=scale\n",
    "                   )\n",
    "color_c = alt.Color('Country:N',\n",
    "                    scale=scale\n",
    "                   )\n",
    "    ##########\n",
    "color1= alt.condition(brush,\n",
    "                      color_s,\n",
    "                      alt.value('grey')\n",
    "                     ) \n",
    "color2= alt.condition(click, \n",
    "                      color_c, \n",
    "                      alt.value('gray')\n",
    "                     )\n",
    "color3= alt.condition(click, \n",
    "                      color_s, \n",
    "                      alt.value('gray')\n",
    "                     )\n",
    "color4= alt.condition(brush,\n",
    "                      color_c,\n",
    "                      alt.value('gray')\n",
    "                     )                      \n",
    "\n",
    "\"\"\" Graphs \"\"\"\n",
    "rect = alt.Chart(series).mark_rect().encode(alt.Y('Series:N'),\n",
    "                                            color=color3\n",
    "                                            ).add_selection(\n",
    "                                              click\n",
    "                                            ).interactive()\n",
    "\n",
    "area= alt.Chart(res).mark_area(interpolate='step',\n",
    "                               #binSpacing=10,\n",
    "                               line=True,\n",
    "                               fillOpacity=0.2,\n",
    "                               cornerRadius=0.8).encode(alt.X('Country:N', axis=alt.Axis(tickSize=0.25, grid=False), title=None), \n",
    "                                                        alt.Y('distinct(Value):Q', stack='center', title=None),\n",
    "                                                        color=alt.condition(brush, 'Series', alt.value('grey')), \n",
    "                                                        tooltip=tooltip1).transform_filter(click).add_selection(brush).properties(width = alt.Step(15),\n",
    "                                                                                                                                  height = alt.Step(20)).interactive(bind_y=True)\n",
    "\n",
    "pnts = alt.Chart(res).mark_point(filled=True,\n",
    "                                 size=1000, \n",
    "                                 stroke='black', \n",
    "                                 strokeWidth=0.15, \n",
    "                                 fillOpacity=0.4).encode(alt.Y('average(Value):Q', axis=alt.Axis(grid=False) ,title=None),\n",
    "                                                          alt.X('Country:N',axis=alt.Axis(tickSize=0.25)),\n",
    "                                                          alt.Shape('Series:N'),\n",
    "                                                          alt.Size('count(Value):Q', scale=alt.Scale(range=[50,300])),\n",
    "                                                          color=alt.condition(brush, color_s, alt.value('grey')), #color_s,\n",
    "                                                          tooltip=tooltip1).transform_filter(click).transform_filter(brush).properties(width = alt.Step(15),\n",
    "                                                                                                                                       height = alt.Step(20)).interactive()\n",
    "\n",
    "\"\"\" Chart Elements \"\"\"\n",
    "\"\"\" alt.vconcat( area,\n",
    "             alt.hconcat(bars,pnts, data=res),\n",
    "             data = res,\n",
    "             title = \"DASS\"\n",
    "           ) \"\"\"\n",
    "\n",
    "\n",
    "chart = rect | (area & pnts)\n",
    "\n",
    "chart\n",
    "#chart.save('DASS.html', scale_factor=2.0)                             "
   ]
  },
  {
   "source": [
    "So what does this data tell me??\n",
    "> Very many people from Malaysia took the quizz for one.  \n",
    "> There are various arrangements of Anxiety, Depression, Stress and other demograohics we can look into and each has an explicable outcome.\n",
    "\n",
    "However, We have to remember to refer to the cookbook to explain variables like race, religion, orientation ... lest the findings seem stupid.\n",
    "\n",
    "It was very interesting to work on this dataset. In the future i hope to do some more work on it to include more xenographic and unusual graphs."
   ],
   "cell_type": "markdown",
   "metadata": {}
  },
  {
   "cell_type": "code",
   "execution_count": null,
   "metadata": {},
   "outputs": [],
   "source": [
    "!ls -lh "
   ]
  },
  {
   "cell_type": "code",
   "execution_count": null,
   "metadata": {},
   "outputs": [],
   "source": []
  }
 ],
 "metadata": {
  "kernelspec": {
   "name": "python385jvsc74a57bd01095db1e3693e1baa5ac970ebb0e4cfa34f00341d23cfda9467139357baec0bd",
   "display_name": "Python 3.8.5 64-bit ('base': conda)"
  },
  "language_info": {
   "codemirror_mode": {
    "name": "ipython",
    "version": 3
   },
   "file_extension": ".py",
   "mimetype": "text/x-python",
   "name": "python",
   "nbconvert_exporter": "python",
   "pygments_lexer": "ipython3",
   "version": "3.8.5"
  }
 },
 "nbformat": 4,
 "nbformat_minor": 4
}